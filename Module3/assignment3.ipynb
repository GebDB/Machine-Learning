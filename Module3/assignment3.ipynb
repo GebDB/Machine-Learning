{
 "cells": [
  {
   "metadata": {
    "collapsed": true,
    "ExecuteTime": {
     "end_time": "2024-09-06T20:09:22.991905Z",
     "start_time": "2024-09-06T20:09:22.885063Z"
    }
   },
   "cell_type": "code",
   "source": [
    "# Option 1 Assignment 3\n",
    "from sklearn.linear_model import LinearRegression\n",
    "from sklearn.metrics import mean_squared_error\n",
    "from sklearn.preprocessing import PolynomialFeatures\n",
    "from sklearn.linear_model import Ridge, Lasso\n",
    "from sklearn.preprocessing import StandardScaler\n",
    "import pandas as pd\n",
    "from sklearn.compose import TransformedTargetRegressor\n",
    "\n",
    "train = pd.read_csv('https://raw.githubusercontent.com/cdavidshaffer/CPSC4970-AI/master/data/m3train.csv').dropna()\n",
    "X_train = train.iloc[:, :-1]\n",
    "y_train = train['N']"
   ],
   "id": "initial_id",
   "outputs": [],
   "execution_count": 47
  },
  {
   "metadata": {
    "ExecuteTime": {
     "end_time": "2024-09-06T20:12:14.846225Z",
     "start_time": "2024-09-06T20:09:22.994908Z"
    }
   },
   "cell_type": "code",
   "source": [
    "import numpy as np\n",
    "from sklearn.pipeline import Pipeline\n",
    "from sklearn.model_selection import GridSearchCV, KFold, validation_curve\n",
    "pl = Pipeline([('poly', PolynomialFeatures()),\n",
    "               ('norm', StandardScaler()),\n",
    "               ('regr', TransformedTargetRegressor(transformer=StandardScaler()))])\n",
    "param_grid = [\n",
    "    {'poly__degree': [1, 2, 3, 4, 5, 6], 'regr__regressor': [Lasso(max_iter=100000)], 'regr__regressor__alpha': [0.001, 0.01, 0.1, 1]},\n",
    "    {'poly__degree': [1, 2, 3, 4, 5, 6], 'regr__regressor': [Ridge()], 'regr__regressor__alpha': [0.0001, 0.001, 0.01, 0.1, 1]},\n",
    "    {'poly__degree': [1, 2, 3, 4, 5, 6], 'regr__regressor': [LinearRegression()]}\n",
    "\n",
    "]\n",
    "model = GridSearchCV(pl, param_grid=param_grid, scoring='neg_mean_squared_error', n_jobs=-1)\n",
    "model.fit(X_train, y_train)\n",
    "pred_train = model.predict(X_train)\n",
    "print(\"Training MSE: \", mean_squared_error(y_train, pred_train))"
   ],
   "id": "ef9b805393ede1a2",
   "outputs": [
    {
     "name": "stdout",
     "output_type": "stream",
     "text": [
      "Training MSE:  795.9834417813945\n"
     ]
    }
   ],
   "execution_count": 48
  },
  {
   "metadata": {},
   "cell_type": "markdown",
   "source": "",
   "id": "8380805aa4e2f081"
  },
  {
   "metadata": {},
   "cell_type": "markdown",
   "source": "All predictions are plus or minus 795.9834417813945.",
   "id": "dfae70fe34580ce7"
  },
  {
   "metadata": {
    "ExecuteTime": {
     "end_time": "2024-09-06T20:15:24.065101Z",
     "start_time": "2024-09-06T20:15:23.924013Z"
    }
   },
   "cell_type": "code",
   "source": [
    "print(model.best_params_)\n",
    "X_grading = pd.read_csv('https://raw.githubusercontent.com/cdavidshaffer/CPSC4970-AI/master/data/m3test.csv')\n",
    "predicted = model.predict(X_grading)"
   ],
   "id": "de35b02caf9cd51f",
   "outputs": [
    {
     "name": "stdout",
     "output_type": "stream",
     "text": [
      "{'poly__degree': 5, 'regr__regressor': Lasso(max_iter=100000), 'regr__regressor__alpha': 0.1}\n"
     ]
    }
   ],
   "execution_count": 54
  },
  {
   "metadata": {
    "ExecuteTime": {
     "end_time": "2024-09-06T20:18:08.296973Z",
     "start_time": "2024-09-06T20:18:08.293373Z"
    }
   },
   "cell_type": "code",
   "source": [
    "print(\"Training values:\", y_train.head(), \"\\n\")\n",
    "print(\"Predicted training values\", pred_train[0:4], \"...\\n\")\n",
    "print(\"Predicted test values:\", predicted[0:4], \"...\\n\")"
   ],
   "id": "bccaaeb9b5f7bd5",
   "outputs": [
    {
     "name": "stdout",
     "output_type": "stream",
     "text": [
      "Training values: 0    220.134692\n",
      "1    198.121223\n",
      "2    318.278075\n",
      "3    306.354113\n",
      "4    332.036493\n",
      "Name: N, dtype: float64 \n",
      "\n",
      "Predicted training values [255.10663461 232.04817744 304.85252906 292.23949722] ...\n",
      "\n",
      "Predicted test values: [322.42821512 272.08291867 255.75517118 203.0013546 ] ...\n",
      "\n"
     ]
    }
   ],
   "execution_count": 60
  }
 ],
 "metadata": {
  "kernelspec": {
   "display_name": "Python 3",
   "language": "python",
   "name": "python3"
  },
  "language_info": {
   "codemirror_mode": {
    "name": "ipython",
    "version": 2
   },
   "file_extension": ".py",
   "mimetype": "text/x-python",
   "name": "python",
   "nbconvert_exporter": "python",
   "pygments_lexer": "ipython2",
   "version": "2.7.6"
  }
 },
 "nbformat": 4,
 "nbformat_minor": 5
}

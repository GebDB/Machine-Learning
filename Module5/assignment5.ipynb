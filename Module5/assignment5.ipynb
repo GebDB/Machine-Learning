{
 "cells": [
  {
   "cell_type": "code",
   "id": "initial_id",
   "metadata": {
    "collapsed": true,
    "ExecuteTime": {
     "end_time": "2024-09-16T07:21:51.950326Z",
     "start_time": "2024-09-16T07:21:51.667194Z"
    }
   },
   "source": [
    "import json\n",
    "import pandas as pd\n",
    "from sklearn.model_selection import train_test_split\n",
    "\n",
    "with open('words_dictionary.json', 'r') as file:\n",
    "    data = json.load(file)\n",
    "words_array = list(data.keys())\n",
    "\n",
    "with open('clickbait_data','r', encoding='utf-8') as file:\n",
    "    clickbait_lines = [line.strip() for line in file.readlines()]\n",
    "clickbait_df = pd.DataFrame({\n",
    "    'Content': clickbait_lines,\n",
    "    'Clickbait': ['clickbait'] * len(clickbait_lines)\n",
    "})\n",
    "\n",
    "with open('non_clickbait_data', 'r', encoding='utf-8') as file:\n",
    "    nonclickbait_lines = [line.strip() for line in file.readlines()]\n",
    "nonclickbait_df = pd.DataFrame({\n",
    "    'Content': nonclickbait_lines,\n",
    "    'Clickbait': ['non-clickbait'] * len(nonclickbait_lines)\n",
    "})\n",
    "\n",
    "df = pd.concat([clickbait_df, nonclickbait_df], ignore_index=True)\n",
    "\n",
    "df.to_csv('labeled_data.csv', index=False)\n",
    "df.dropna(subset=['Content'], inplace=True)\n",
    "df = df[df['Content'].str.strip() != '']\n",
    "df['Clickbait'] = df['Clickbait'].map({'clickbait': 1, 'non-clickbait': 0})\n",
    "df = df.sample(frac=1).reset_index(drop=True)\n",
    "print(df.shape)\n",
    "print(df.head())\n",
    "\n",
    "X = df['Content']\n",
    "y = df['Clickbait']"
   ],
   "outputs": [
    {
     "name": "stdout",
     "output_type": "stream",
     "text": [
      "(32000, 2)\n",
      "                                             Content  Clickbait\n",
      "0    A Familiar Path in Months Before Fatal Shooting          0\n",
      "1  This Word Search Test Will Reveal A Deep Truth...          1\n",
      "2  Judge Approves $33.3 Billion Federal Loan to G.M.          0\n",
      "3  In St. Louis, Glorious Stadium Honors Glorious...          0\n",
      "4  23 Pictures That Prove There Is Still Hope For...          1\n"
     ]
    }
   ],
   "execution_count": 1
  },
  {
   "metadata": {
    "ExecuteTime": {
     "end_time": "2024-09-16T07:21:52.291081Z",
     "start_time": "2024-09-16T07:21:51.954331Z"
    }
   },
   "cell_type": "code",
   "source": [
    "from sklearn.feature_extraction.text import TfidfVectorizer\n",
    "\n",
    "vectorizer = TfidfVectorizer(vocabulary=words_array, strip_accents='unicode')\n",
    "X_vectorized = vectorizer.fit_transform(X)\n"
   ],
   "id": "42f304731025da6c",
   "outputs": [],
   "execution_count": 2
  },
  {
   "metadata": {
    "ExecuteTime": {
     "end_time": "2024-09-16T07:22:37.335745Z",
     "start_time": "2024-09-16T07:21:52.888832Z"
    }
   },
   "cell_type": "code",
   "source": [
    "from sklearn.metrics import accuracy_score\n",
    "from sklearn.model_selection import GridSearchCV, train_test_split, cross_val_score\n",
    "from sklearn.neighbors import KNeighborsClassifier\n",
    "\n",
    "knn = KNeighborsClassifier()\n",
    "\n",
    "param_grid = {'n_neighbors': [3, 5, 7, 10]}\n",
    "\n",
    "grid_search_knn = GridSearchCV(knn, param_grid, cv=5, scoring='accuracy')\n",
    "\n",
    "X_train, X_test, y_train, y_test = train_test_split(X_vectorized, y, test_size=0.25, random_state=42)\n",
    "\n",
    "grid_search_knn.fit(X_train, y_train)\n",
    "\n",
    "best_knn = grid_search_knn.best_estimator_\n",
    "best_params = grid_search_knn.best_params_\n",
    "\n",
    "cv_train_scores_accuracy = cross_val_score(best_knn, X_train, y_train, cv=5, scoring='accuracy')\n",
    "\n",
    "best_knn.fit(X_train, y_train)\n",
    "y_pred = best_knn.predict(X_test)\n",
    "\n",
    "print(\"Best parameters:\", best_params)\n",
    "print(\"KNN CV Train Accuracy Mean:\", cv_train_scores_accuracy.mean())\n",
    "print(\"KNN CV Train Accuracy Std:\", cv_train_scores_accuracy.std())\n",
    "print(\"KNN Test Accuracy:\", accuracy_score(y_test, y_pred))\n",
    "\n"
   ],
   "id": "a51a3aad46e3228",
   "outputs": [
    {
     "name": "stdout",
     "output_type": "stream",
     "text": [
      "Best parameters: {'n_neighbors': 10}\n",
      "KNN CV Train Accuracy Mean: 0.9413333333333332\n",
      "KNN CV Train Accuracy Std: 0.0028155076510876964\n",
      "KNN Test Accuracy: 0.936625\n"
     ]
    }
   ],
   "execution_count": 3
  },
  {
   "metadata": {
    "ExecuteTime": {
     "end_time": "2024-09-16T07:22:39.586886Z",
     "start_time": "2024-09-16T07:22:37.712208Z"
    }
   },
   "cell_type": "code",
   "source": [
    "from sklearn.naive_bayes import MultinomialNB\n",
    "\n",
    "nb = MultinomialNB()\n",
    "\n",
    "param_grid = {'alpha': [0.1, 0.5, 1.0, 1.5, 2.0]}\n",
    "\n",
    "grid_search = GridSearchCV(nb, param_grid, cv=5, scoring='accuracy')\n",
    "\n",
    "grid_search.fit(X_train, y_train)\n",
    "\n",
    "best_nb = grid_search.best_estimator_\n",
    "best_params = grid_search.best_params_\n",
    "\n",
    "cv_train_scores_accuracy = cross_val_score(best_nb, X_train, y_train, cv=5, scoring='accuracy',  n_jobs=-1)\n",
    "\n",
    "best_nb.fit(X_train, y_train)\n",
    "\n",
    "y_pred_train_nb = best_nb.predict(X_train)\n",
    "y_pred_test_nb = best_nb.predict(X_test)\n",
    "\n",
    "print(\"Best parameters:\", best_params)\n",
    "print(\"Naive Bayes Train Accuracy Mean:\", cv_train_scores_accuracy.mean())\n",
    "print(\"Naive Bayes Train Accuracy Std:\", cv_train_scores_accuracy.std())\n",
    "print(\"Naive Bayes Test Accuracy:\", accuracy_score(y_test, y_pred_test_nb))\n"
   ],
   "id": "8f7bdab6063032be",
   "outputs": [
    {
     "name": "stdout",
     "output_type": "stream",
     "text": [
      "Best parameters: {'alpha': 0.1}\n",
      "Naive Bayes Train Accuracy Mean: 0.9651666666666665\n",
      "Naive Bayes Train Accuracy Std: 0.001326806944007567\n",
      "Naive Bayes Test Accuracy: 0.965375\n"
     ]
    }
   ],
   "execution_count": 4
  },
  {
   "metadata": {
    "ExecuteTime": {
     "end_time": "2024-09-16T08:04:06.457862Z",
     "start_time": "2024-09-16T07:22:39.957137Z"
    }
   },
   "cell_type": "code",
   "source": [
    "from sklearn.neural_network import MLPClassifier\n",
    "from sklearn.model_selection import cross_val_score\n",
    "\n",
    "# List of classifiers with different hidden layer configurations\n",
    "classifiers = [\n",
    "    MLPClassifier(max_iter=200, hidden_layer_sizes=[2, 3], activation='tanh', early_stopping=True),\n",
    "    MLPClassifier(max_iter=200, hidden_layer_sizes=[3, 2], activation='tanh', early_stopping=True),\n",
    "    MLPClassifier(max_iter=200, hidden_layer_sizes=[2, 2], activation='tanh', early_stopping=True),\n",
    "    MLPClassifier(max_iter=200, hidden_layer_sizes=[3, 3], activation='tanh', early_stopping=True),\n",
    "    MLPClassifier(max_iter=200, hidden_layer_sizes=[4, 3], activation='tanh', early_stopping=True),\n",
    "    MLPClassifier(max_iter=200, hidden_layer_sizes=[3, 4], activation='tanh', early_stopping=True),\n",
    "    MLPClassifier(max_iter=200, hidden_layer_sizes=[4, 4], activation='tanh', early_stopping=True),\n",
    "    MLPClassifier(max_iter=200, hidden_layer_sizes=[4, 5], activation='tanh', early_stopping=True),\n",
    "    MLPClassifier(max_iter=200, hidden_layer_sizes=[5, 4], activation='tanh', early_stopping=True),\n",
    "    MLPClassifier(max_iter=200, hidden_layer_sizes=[5, 5], activation='tanh', early_stopping=True)\n",
    "]\n",
    "\n",
    "# Perform 5-fold cross-validation and store results\n",
    "for idx, clf in enumerate(classifiers):\n",
    "    scores = cross_val_score(clf, X_train, y_train, cv=5, scoring='accuracy', n_jobs=-1)\n",
    "    print(f\"Classifier {idx+1}: Hidden layers {clf.hidden_layer_sizes}, Accuracy: {scores.mean():.4f} (+/- {scores.std():.4f})\")\n"
   ],
   "id": "e3d909d47c41605c",
   "outputs": [
    {
     "name": "stdout",
     "output_type": "stream",
     "text": [
      "Classifier 1: Hidden layers [2, 3], Accuracy: 0.9686 (+/- 0.0028)\n",
      "Classifier 2: Hidden layers [3, 2], Accuracy: 0.9714 (+/- 0.0012)\n",
      "Classifier 3: Hidden layers [2, 2], Accuracy: 0.9706 (+/- 0.0017)\n",
      "Classifier 4: Hidden layers [3, 3], Accuracy: 0.9711 (+/- 0.0018)\n",
      "Classifier 5: Hidden layers [4, 3], Accuracy: 0.9705 (+/- 0.0011)\n",
      "Classifier 6: Hidden layers [3, 4], Accuracy: 0.9708 (+/- 0.0010)\n",
      "Classifier 7: Hidden layers [4, 4], Accuracy: 0.9705 (+/- 0.0014)\n",
      "Classifier 8: Hidden layers [4, 5], Accuracy: 0.9696 (+/- 0.0012)\n",
      "Classifier 9: Hidden layers [5, 4], Accuracy: 0.9710 (+/- 0.0011)\n",
      "Classifier 10: Hidden layers [5, 5], Accuracy: 0.9716 (+/- 0.0009)\n"
     ]
    }
   ],
   "execution_count": 5
  },
  {
   "metadata": {},
   "cell_type": "markdown",
   "source": [
    "Classifier 1: Hidden layers [2, 3], Accuracy: 0.9686 (+/- 0.0028)\n",
    "Classifier 2: Hidden layers [3, 2], Accuracy: 0.9714 (+/- 0.0012)\n",
    "Classifier 3: Hidden layers [2, 2], Accuracy: 0.9706 (+/- 0.0017)\n",
    "Classifier 4: Hidden layers [3, 3], Accuracy: 0.9711 (+/- 0.0018)\n",
    "Classifier 5: Hidden layers [4, 3], Accuracy: 0.9705 (+/- 0.0011)\n",
    "Classifier 6: Hidden layers [3, 4], Accuracy: 0.9708 (+/- 0.0010)\n",
    "Classifier 7: Hidden layers [4, 4], Accuracy: 0.9705 (+/- 0.0014)\n",
    "Classifier 8: Hidden layers [4, 5], Accuracy: 0.9696 (+/- 0.0012)\n",
    "Classifier 9: Hidden layers [5, 4], Accuracy: 0.9710 (+/- 0.0011)\n",
    "Classifier 10: Hidden layers [5, 5], Accuracy: 0.9716 (+/- 0.0009)\n"
   ],
   "id": "5d9a5728269add86"
  },
  {
   "metadata": {
    "ExecuteTime": {
     "end_time": "2024-09-16T08:26:54.194298Z",
     "start_time": "2024-09-16T08:24:31.163264Z"
    }
   },
   "cell_type": "code",
   "source": [
    "bestMLP = MLPClassifier(max_iter=200, hidden_layer_sizes=[5, 5], activation='tanh', early_stopping=True)\n",
    "bestMLP.fit(X_train, y_train)\n",
    "\n",
    "y_pred_test_MLP = bestMLP.predict(X_test)\n",
    "\n",
    "print(\"Classifier 10 Test Accuracy:\", accuracy_score(y_test, y_pred_test_MLP))"
   ],
   "id": "a9ae3b71b91cab11",
   "outputs": [
    {
     "name": "stdout",
     "output_type": "stream",
     "text": [
      "Classifier 10 Test Accuracy: 0.96975\n"
     ]
    }
   ],
   "execution_count": 8
  },
  {
   "metadata": {},
   "cell_type": "markdown",
   "source": [
    "- The data representation I used was Tfidf.\n",
    "- The metric I selected to rank the models was accuracy.\n",
    "\n",
    "#### Ranking based on accuracy, 1 being the best, 3 being the worst\n",
    "1) KNeighbors classifier\n",
    "2) Multinomial Naive Bayes classifier\n",
    "3) MLP classifier\n",
    "\n",
    "#### KNeighbors Metrics and Optimal Hyperparameters:\n",
    "- Best parameters: {'n_neighbors': 10}\n",
    "- KNN CV Train Accuracy Mean: 0.9413333333333332\n",
    "- KNN CV Train Accuracy Std: 0.0028155076510876964\n",
    "- KNN Test Accuracy: 0.936625\n",
    "\n",
    "#### Multinomial Naive Bayes Metrics and Optimal Hyperparameters:\n",
    "- Best parameters: {'alpha': 0.1}\n",
    "- Naive Bayes Train Accuracy Mean: 0.9651666666666665\n",
    "- Naive Bayes Train Accuracy Std: 0.001326806944007567\n",
    "- Naive Bayes Test Accuracy: 0.965375\n",
    "\n",
    "#### MLP Metrics and Optimal Hyper Parameters\n",
    "- Best parameters: Hidden layers [5, 5], Classifier10\n",
    "- MLP Train Accuracy Mean: 0.9716 \n",
    "- MLP Train Accuracy Std: 0.0009\n",
    "- MLP Test Accuracy: 0.97175\n",
    "\n",
    "#### How can the classifier be used as a web browser plugin?\n",
    "The classifier can be used with an automatic scraper that reads headlines of the current page of a search result. The scraper can gather all headlines from the search page by identifying a specific html tag, one with a classname related to the headlines given by the search engine. After collecting all these headlines, the trained classifier can be used to predict which of them are clickbait. Then the plugin can take these results and highlight all clickbait headlines in red in order to warn the user."
   ],
   "id": "6fff8ddfb1989e0a"
  }
 ],
 "metadata": {
  "kernelspec": {
   "display_name": "Python 3",
   "language": "python",
   "name": "python3"
  },
  "language_info": {
   "codemirror_mode": {
    "name": "ipython",
    "version": 2
   },
   "file_extension": ".py",
   "mimetype": "text/x-python",
   "name": "python",
   "nbconvert_exporter": "python",
   "pygments_lexer": "ipython2",
   "version": "2.7.6"
  }
 },
 "nbformat": 4,
 "nbformat_minor": 5
}
